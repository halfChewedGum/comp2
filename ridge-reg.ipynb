{
 "cells": [
  {
   "cell_type": "markdown",
   "id": "dff3582d-3a9e-4e71-9273-f6c1f684259e",
   "metadata": {},
   "source": [
    "\n",
    "# Competition 2 - Ridge Regression \n",
    "\n",
    "## Name: OyWithThePoodles \n",
    "===========================================\n",
    "\n",
    "**MSE train set**: 1.03\n",
    "\n",
    "**R2 train set**: 20% \n",
    "\n",
    "-------------------------------------------\n",
    "**MSE test set**: 0.80\n",
    "\n",
    "**R2 test set**: 26% \n",
    "\n",
    "-------> **Best alpha found**: 0.99\n",
    "\n",
    "*comparison with Lasso Regression* \n",
    "\n",
    "|RegressionType|Dataset|MSE|R2|\n",
    "|--------------|-------|-----|-----|\n",
    "|Lasso|Train|0.79|25%|\n",
    "|Lasso|Test|0.65|29%|\n",
    "|Ridge|Train|1.03|20%|\n",
    "|Ridge|Test|0.80|26%|\n",
    "\n",
    "## overall, Lasso worked better. "
   ]
  },
  {
   "cell_type": "code",
   "execution_count": 42,
   "id": "0db9d32a-7218-4379-b610-18b1224b5074",
   "metadata": {},
   "outputs": [
    {
     "name": "stdout",
     "output_type": "stream",
     "text": [
      "<class 'pandas.core.series.Series'>\n",
      "<class 'pandas.core.frame.DataFrame'>\n",
      "[12.89921983 11.22524339 11.56171563 13.12236338 11.8913619 ]\n",
      "   BATHS  BEDRMS  BUILT  UNITSF      LOT  ROOMS  REGION  KITCHEN  FLOORS  \\\n",
      "0      2       3   2001  1531.0   2712.0      6       4        1       2   \n",
      "1      1       3   1975  1125.0  11000.0      5       3        1       1   \n",
      "2      2       3   1995  1300.0  44000.0      5       3        1       1   \n",
      "3      4       5   2001  8299.0  11000.0     11       4        1       2   \n",
      "4      2       4   1990  1200.0  11000.0      7       2        1       4   \n",
      "\n",
      "   LAUNDY  RECRM  METRO  METRO3  \n",
      "0       0      0      7       2  \n",
      "1       0      0      1       1  \n",
      "2       0      0      7       2  \n",
      "3       0      0      7       2  \n",
      "4       0      0      7       2  \n"
     ]
    }
   ],
   "source": [
    "import pandas as pd \n",
    "import numpy as np \n",
    "import matplotlib.pyplot as plt \n",
    "from sklearn.linear_model import Ridge \n",
    "from sklearn.model_selection import train_test_split\n",
    "from sklearn.metrics import mean_squared_error\n",
    "from sklearn.metrics import r2_score\n",
    "\n",
    "ds = pd.read_csv('trainset.csv')\n",
    "\n",
    "xs = ['x']\n",
    "xs.extend(['x_%d' % i for i in range(1,14)])\n",
    "\n",
    "y = ds['LOGVALUE']\n",
    "x = ds.iloc[:,1:] \n",
    "\n",
    "print(type(y))\n",
    "print(type(x))\n",
    "\n",
    "y = np.array(y)\n",
    "\n",
    "print(y[:5])\n",
    "print(x.head())"
   ]
  },
  {
   "cell_type": "code",
   "execution_count": 43,
   "id": "21dbf8dd-a4d5-4a02-a7ea-73c34e996b4a",
   "metadata": {},
   "outputs": [
    {
     "data": {
      "text/plain": [
       "numpy.int64"
      ]
     },
     "execution_count": 43,
     "metadata": {},
     "output_type": "execute_result"
    }
   ],
   "source": [
    "type(x.iloc[4,2])"
   ]
  },
  {
   "cell_type": "code",
   "execution_count": 44,
   "id": "7f1fdf61-492a-46fa-8a34-be23d9907b7c",
   "metadata": {},
   "outputs": [
    {
     "data": {
      "text/html": [
       "<div>\n",
       "<style scoped>\n",
       "    .dataframe tbody tr th:only-of-type {\n",
       "        vertical-align: middle;\n",
       "    }\n",
       "\n",
       "    .dataframe tbody tr th {\n",
       "        vertical-align: top;\n",
       "    }\n",
       "\n",
       "    .dataframe thead th {\n",
       "        text-align: right;\n",
       "    }\n",
       "</style>\n",
       "<table border=\"1\" class=\"dataframe\">\n",
       "  <thead>\n",
       "    <tr style=\"text-align: right;\">\n",
       "      <th></th>\n",
       "      <th>BATHS</th>\n",
       "      <th>BEDRMS</th>\n",
       "      <th>BUILT</th>\n",
       "      <th>UNITSF</th>\n",
       "      <th>LOT</th>\n",
       "      <th>ROOMS</th>\n",
       "      <th>REGION</th>\n",
       "      <th>KITCHEN</th>\n",
       "      <th>FLOORS</th>\n",
       "      <th>LAUNDY</th>\n",
       "      <th>RECRM</th>\n",
       "      <th>METRO</th>\n",
       "      <th>METRO3</th>\n",
       "    </tr>\n",
       "  </thead>\n",
       "  <tbody>\n",
       "    <tr>\n",
       "      <th>0</th>\n",
       "      <td>2</td>\n",
       "      <td>3</td>\n",
       "      <td>0</td>\n",
       "      <td>1531.0</td>\n",
       "      <td>2712.0</td>\n",
       "      <td>6</td>\n",
       "      <td>4</td>\n",
       "      <td>1</td>\n",
       "      <td>2</td>\n",
       "      <td>0</td>\n",
       "      <td>0</td>\n",
       "      <td>7</td>\n",
       "      <td>2</td>\n",
       "    </tr>\n",
       "    <tr>\n",
       "      <th>1</th>\n",
       "      <td>1</td>\n",
       "      <td>3</td>\n",
       "      <td>0</td>\n",
       "      <td>1125.0</td>\n",
       "      <td>11000.0</td>\n",
       "      <td>5</td>\n",
       "      <td>3</td>\n",
       "      <td>1</td>\n",
       "      <td>1</td>\n",
       "      <td>0</td>\n",
       "      <td>0</td>\n",
       "      <td>1</td>\n",
       "      <td>1</td>\n",
       "    </tr>\n",
       "    <tr>\n",
       "      <th>2</th>\n",
       "      <td>2</td>\n",
       "      <td>3</td>\n",
       "      <td>0</td>\n",
       "      <td>1300.0</td>\n",
       "      <td>44000.0</td>\n",
       "      <td>5</td>\n",
       "      <td>3</td>\n",
       "      <td>1</td>\n",
       "      <td>1</td>\n",
       "      <td>0</td>\n",
       "      <td>0</td>\n",
       "      <td>7</td>\n",
       "      <td>2</td>\n",
       "    </tr>\n",
       "    <tr>\n",
       "      <th>3</th>\n",
       "      <td>4</td>\n",
       "      <td>5</td>\n",
       "      <td>0</td>\n",
       "      <td>8299.0</td>\n",
       "      <td>11000.0</td>\n",
       "      <td>11</td>\n",
       "      <td>4</td>\n",
       "      <td>1</td>\n",
       "      <td>2</td>\n",
       "      <td>0</td>\n",
       "      <td>0</td>\n",
       "      <td>7</td>\n",
       "      <td>2</td>\n",
       "    </tr>\n",
       "    <tr>\n",
       "      <th>4</th>\n",
       "      <td>2</td>\n",
       "      <td>4</td>\n",
       "      <td>0</td>\n",
       "      <td>1200.0</td>\n",
       "      <td>11000.0</td>\n",
       "      <td>7</td>\n",
       "      <td>2</td>\n",
       "      <td>1</td>\n",
       "      <td>4</td>\n",
       "      <td>0</td>\n",
       "      <td>0</td>\n",
       "      <td>7</td>\n",
       "      <td>2</td>\n",
       "    </tr>\n",
       "  </tbody>\n",
       "</table>\n",
       "</div>"
      ],
      "text/plain": [
       "   BATHS  BEDRMS  BUILT  UNITSF      LOT  ROOMS  REGION  KITCHEN  FLOORS  \\\n",
       "0      2       3      0  1531.0   2712.0      6       4        1       2   \n",
       "1      1       3      0  1125.0  11000.0      5       3        1       1   \n",
       "2      2       3      0  1300.0  44000.0      5       3        1       1   \n",
       "3      4       5      0  8299.0  11000.0     11       4        1       2   \n",
       "4      2       4      0  1200.0  11000.0      7       2        1       4   \n",
       "\n",
       "   LAUNDY  RECRM  METRO  METRO3  \n",
       "0       0      0      7       2  \n",
       "1       0      0      1       1  \n",
       "2       0      0      7       2  \n",
       "3       0      0      7       2  \n",
       "4       0      0      7       2  "
      ]
     },
     "execution_count": 44,
     "metadata": {},
     "output_type": "execute_result"
    }
   ],
   "source": [
    "#ok, now I'll build the model using all the columns - no normalizations \n",
    "\n",
    "#I have 1 categorical variable, so I'll have to treat that differently. \n",
    "\n",
    "#encoding year built - if it's before 1970s, it's old (0), if it's after it's ok (1)\n",
    "\n",
    "x.loc[x['BUILT'] >= 1970, 'BUILT'] = 1\n",
    "x.loc[x['BUILT'] < 1970, 'BUILT'] = 0\n",
    "\n",
    "x.head()"
   ]
  },
  {
   "cell_type": "code",
   "execution_count": 46,
   "id": "db83a09c-95a3-402f-a4b5-fd2099092668",
   "metadata": {},
   "outputs": [
    {
     "data": {
      "text/plain": [
       "2909690"
      ]
     },
     "execution_count": 46,
     "metadata": {},
     "output_type": "execute_result"
    }
   ],
   "source": [
    "sum(x['BUILT'])"
   ]
  },
  {
   "cell_type": "code",
   "execution_count": 47,
   "id": "25013154-ada4-43e8-9c6c-5b90ac6355cc",
   "metadata": {},
   "outputs": [
    {
     "name": "stdout",
     "output_type": "stream",
     "text": [
      "MSE:  -0.8769061927749798\n",
      "alpha:  {'alpha': 0.99}\n"
     ]
    }
   ],
   "source": [
    "from sklearn.model_selection import cross_val_score\n",
    "from sklearn.model_selection import RepeatedKFold\n",
    "from sklearn.model_selection import GridSearchCV\n",
    "\n",
    "#fit model \n",
    "\n",
    "#training and validation set \n",
    "x_train, x_val, y_train, y_val = train_test_split(x, y, test_size = 0.3, random_state = 0)\n",
    "\n",
    "def find_alpha(x, y):\n",
    "    \"\"\"\n",
    "    Find the best alpha value based on training set.\n",
    "    \"\"\"\n",
    "    scores = []\n",
    "    model = Ridge()\n",
    "    cv = RepeatedKFold(n_splits = 10, n_repeats = 5, random_state = 1)\n",
    "    grid = dict()\n",
    "    grid['alpha'] = np.arange(0, 1, 0.01) #possible alpha values \n",
    "    search = GridSearchCV(model, grid, scoring='neg_mean_squared_error', cv = cv, n_jobs = -1)\n",
    "    results = search.fit(x, y)\n",
    "    \n",
    "    print('MSE: ', results.best_score_)\n",
    "    print('alpha: ', results.best_params_)\n",
    "\n",
    "find_alpha(x_train, y_train)"
   ]
  },
  {
   "cell_type": "code",
   "execution_count": 59,
   "id": "13326bff-3734-4d8b-adc9-0f0e1fbd1b09",
   "metadata": {},
   "outputs": [
    {
     "name": "stdout",
     "output_type": "stream",
     "text": [
      "MSE:  1.0345934916059325\n",
      "R2:  0.19917720021292884\n"
     ]
    }
   ],
   "source": [
    "#modeling \n",
    "ridge_model = Ridge(alpha = 0.99)\n",
    "\n",
    "ridge_fit = ridge_model.fit(x_train, y_train)\n",
    "ridge_pred = ridge_fit.predict(x_val) \n",
    "\n",
    "#how well does this do? \n",
    "mse = mean_squared_error(y_val, ridge_pred)\n",
    "r2 = r2_score(y_val,ridge_pred)\n",
    "\n",
    "print('MSE: ', mse)\n",
    "print('R2: ', r2)"
   ]
  },
  {
   "cell_type": "code",
   "execution_count": 60,
   "id": "627d3774-ef82-4b01-9eba-43133e445373",
   "metadata": {},
   "outputs": [
    {
     "name": "stdout",
     "output_type": "stream",
     "text": [
      "test MSE: 0.7909599117538261\n",
      "test R2: 0.2589496445468772\n"
     ]
    }
   ],
   "source": [
    "#lets see how well it does on test set \n",
    "\n",
    "testset = pd.read_csv('testset.csv')\n",
    "testset.loc[x['BUILT'] >= 1970, 'BUILT'] = 1\n",
    "testset.loc[x['BUILT'] < 1970, 'BUILT'] = 0\n",
    "\n",
    "ytest = testset['LOGVALUE']\n",
    "xtest = testset.iloc[:,1:]\n",
    "\n",
    "test_pred = ridge_fit.predict(xtest)\n",
    "test_mse = mean_squared_error(ytest, test_pred)\n",
    "test_r2 = r2_score(ytest, test_pred)\n",
    "\n",
    "print(\"test MSE:\", test_mse)\n",
    "print(\"test R2:\", test_r2)"
   ]
  },
  {
   "cell_type": "code",
   "execution_count": 61,
   "id": "3291313b-5063-4bd0-a4b9-089501bc1486",
   "metadata": {},
   "outputs": [],
   "source": [
    "#well, doesn't make much sense that my test set works so much better! "
   ]
  }
 ],
 "metadata": {
  "kernelspec": {
   "display_name": "Python 3",
   "language": "python",
   "name": "python3"
  },
  "language_info": {
   "codemirror_mode": {
    "name": "ipython",
    "version": 3
   },
   "file_extension": ".py",
   "mimetype": "text/x-python",
   "name": "python",
   "nbconvert_exporter": "python",
   "pygments_lexer": "ipython3",
   "version": "3.8.8"
  }
 },
 "nbformat": 4,
 "nbformat_minor": 5
}
